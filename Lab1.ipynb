{
 "cells": [
  {
   "cell_type": "code",
   "execution_count": 1,
   "id": "30d2ca22",
   "metadata": {},
   "outputs": [],
   "source": [
    "# Import libraries \n",
    "import numpy as np \n",
    "import matplotlib.pyplot as plt \n",
    "from ipywidgets import interact, FloatSlider \n",
    "from IPython.display import display, clear_output "
   ]
  },
  {
   "cell_type": "code",
   "execution_count": 2,
   "id": "3c7808c3",
   "metadata": {},
   "outputs": [],
   "source": [
    "# Generate synthetic data \n",
    "np.random.seed(0) \n",
    "X = np.linspace(0, 10, 100) \n",
    "Y = 2 * X + 1 + np.random.normal(0, 2, 100) "
   ]
  },
  {
   "cell_type": "code",
   "execution_count": 3,
   "id": "5fea56ad",
   "metadata": {},
   "outputs": [],
   "source": [
    "# Create a plot function for interactive visualization \n",
    "def plot_linear_regression(slope=2.0, intercept=1.0): \n",
    "    predicted_Y = slope * X + intercept \n",
    "    loss = np.mean((predicted_Y - Y) ** 2)  # Calculate mean squared \n",
    "#error (loss) \n",
    "     \n",
    "    # Create the plot \n",
    "    plt.figure(figsize=(10, 5)) \n",
    "    plt.scatter(X, Y, label='Data Points') \n",
    "    plt.plot(X, predicted_Y, color='red', label='Linear Regression Line') \n",
    "    plt.xlabel('X') \n",
    "    plt.ylabel('Y / Predicted Y') \n",
    "    plt.title(f'Linear Regression (Loss: {loss:.2f})') \n",
    "    plt.legend() \n",
    "    plt.grid(True) \n",
    "    plt.show() "
   ]
  },
  {
   "cell_type": "code",
   "execution_count": 4,
   "id": "4b0e5eda",
   "metadata": {},
   "outputs": [
    {
     "data": {
      "application/vnd.jupyter.widget-view+json": {
       "model_id": "e30a16069ffa4a9588d79ed3ddd6f36a",
       "version_major": 2,
       "version_minor": 0
      },
      "text/plain": [
       "interactive(children=(FloatSlider(value=4.0, description='Slope', max=5.0, min=-5.0), FloatSlider(value=3.0, d…"
      ]
     },
     "metadata": {},
     "output_type": "display_data"
    },
    {
     "data": {
      "text/plain": [
       "<function __main__.plot_linear_regression(slope=2.0, intercept=1.0)>"
      ]
     },
     "execution_count": 4,
     "metadata": {},
     "output_type": "execute_result"
    }
   ],
   "source": [
    "# Create sliders \n",
    "slope_slider = FloatSlider(value=4.0, min=-5.0, max=5.0, step=0.1, \n",
    "                           description='Slope') \n",
    "intercept_slider = FloatSlider(value=3.0, min=-5.0, max=5.0, step=0.1, \n",
    "                               description='Intercept') \n",
    " \n",
    "# Create an interactive widget \n",
    "interact(plot_linear_regression, slope=slope_slider, \n",
    "         intercept=intercept_slider) "
   ]
  }
 ],
 "metadata": {
  "kernelspec": {
   "display_name": "base",
   "language": "python",
   "name": "python3"
  },
  "language_info": {
   "codemirror_mode": {
    "name": "ipython",
    "version": 3
   },
   "file_extension": ".py",
   "mimetype": "text/x-python",
   "name": "python",
   "nbconvert_exporter": "python",
   "pygments_lexer": "ipython3",
   "version": "3.13.5"
  }
 },
 "nbformat": 4,
 "nbformat_minor": 5
}
